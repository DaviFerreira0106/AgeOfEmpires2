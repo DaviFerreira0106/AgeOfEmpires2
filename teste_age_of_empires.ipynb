{
  "cells": [
    {
      "cell_type": "markdown",
      "metadata": {
        "id": "view-in-github",
        "colab_type": "text"
      },
      "source": [
        "<a href=\"https://colab.research.google.com/github/DaviFerreira0106/AgeOfEmpires2/blob/main/teste_age_of_empires.ipynb\" target=\"_parent\"><img src=\"https://colab.research.google.com/assets/colab-badge.svg\" alt=\"Open In Colab\"/></a>"
      ]
    },
    {
      "cell_type": "code",
      "execution_count": 44,
      "metadata": {
        "id": "AAbWqlSrF_Rn"
      },
      "outputs": [],
      "source": [
        "import pandas as pd\n",
        "import numpy as np\n",
        "import matplotlib.pyplot as plt\n",
        "from sklearn.datasets import load_wine\n",
        "from sklearn.model_selection import train_test_split, GridSearchCV, cross_val_score\n",
        "from sklearn.preprocessing import StandardScaler\n",
        "from sklearn.svm import SVC\n",
        "from sklearn.metrics import accuracy_score, classification_report, confusion_matrix, ConfusionMatrixDisplay\n",
        "from sklearn.inspection import permutation_importance\n",
        "from sklearn.preprocessing import OneHotEncoder\n",
        "from sklearn.preprocessing import LabelEncoder\n",
        "from sklearn.inspection import permutation_importance\n",
        "import seaborn as sns"
      ]
    },
    {
      "cell_type": "code",
      "source": [
        "!pwd"
      ],
      "metadata": {
        "colab": {
          "base_uri": "https://localhost:8080/"
        },
        "id": "gudv8Rub1tcC",
        "outputId": "68cf64d8-ef3d-4367-d1a6-8df363c8ef56"
      },
      "execution_count": 45,
      "outputs": [
        {
          "output_type": "stream",
          "name": "stdout",
          "text": [
            "/content\n"
          ]
        }
      ]
    },
    {
      "cell_type": "code",
      "execution_count": 53,
      "metadata": {
        "colab": {
          "base_uri": "https://localhost:8080/"
        },
        "id": "leedQHrwGHRw",
        "outputId": "b14c040b-894c-4780-aa76-ab67eeda3d5e"
      },
      "outputs": [
        {
          "output_type": "execute_result",
          "data": {
            "text/plain": [
              "(500, 15)"
            ]
          },
          "metadata": {},
          "execution_count": 53
        }
      ],
      "source": [
        "#https://www.kaggle.com/datasets/nicoelbert/aoe-matchups?resource=download\n",
        "df = pd.read_csv('/content/aoe_data.csv').sample(n=500, ignore_index=True, random_state=42)\n",
        "df.shape"
      ]
    },
    {
      "cell_type": "code",
      "execution_count": 54,
      "metadata": {
        "colab": {
          "base_uri": "https://localhost:8080/"
        },
        "id": "RRtgBdnCh6TM",
        "outputId": "301ca9f9-39c0-4e43-b582-a184672e788c"
      },
      "outputs": [
        {
          "output_type": "execute_result",
          "data": {
            "text/plain": [
              "array(['Nomad', 'Arabia', 'Atacama', 'Haboob', 'MegaRandom',\n",
              "       'Golden Swamp', 'Gold Rush', 'Acropolis', 'Ghost Lake',\n",
              "       'Four Lakes', 'African Clearing', 'Socotra', 'Arena', 'Aftermath',\n",
              "       'Archipelago', 'Migration', 'Wade', 'Runestones', 'Hideout',\n",
              "       'Crater', 'Golden Pit', 'Serengeti', 'Land Madness', 'Valley',\n",
              "       'Fortress', 'Hill Fort', 'Mongolia', 'Islands', 'Lombardia',\n",
              "       'Land Nomad', 'Yucatan', 'Steppe', 'Marketplace',\n",
              "       'Volcanic Island', 'Mediterranean', 'Team Islands'], dtype=object)"
            ]
          },
          "metadata": {},
          "execution_count": 54
        }
      ],
      "source": [
        "df['map'].unique()"
      ]
    },
    {
      "cell_type": "code",
      "execution_count": 48,
      "metadata": {
        "colab": {
          "base_uri": "https://localhost:8080/",
          "height": 554
        },
        "id": "Xij77bjYVgBV",
        "outputId": "cec8850a-3133-446d-8b76-9daa953403ae"
      },
      "outputs": [
        {
          "output_type": "execute_result",
          "data": {
            "text/plain": [
              "Unnamed: 0     0\n",
              "match_id       0\n",
              "map            0\n",
              "map_size       0\n",
              "duration       0\n",
              "dataset        0\n",
              "difficulty     0\n",
              "elo            0\n",
              "p1_civ         0\n",
              "p2_civ         0\n",
              "p1_xpos       29\n",
              "p2_xpos       29\n",
              "p1_ypos       29\n",
              "p2_ypos       29\n",
              "winner         0\n",
              "dtype: int64"
            ],
            "text/html": [
              "<div>\n",
              "<style scoped>\n",
              "    .dataframe tbody tr th:only-of-type {\n",
              "        vertical-align: middle;\n",
              "    }\n",
              "\n",
              "    .dataframe tbody tr th {\n",
              "        vertical-align: top;\n",
              "    }\n",
              "\n",
              "    .dataframe thead th {\n",
              "        text-align: right;\n",
              "    }\n",
              "</style>\n",
              "<table border=\"1\" class=\"dataframe\">\n",
              "  <thead>\n",
              "    <tr style=\"text-align: right;\">\n",
              "      <th></th>\n",
              "      <th>0</th>\n",
              "    </tr>\n",
              "  </thead>\n",
              "  <tbody>\n",
              "    <tr>\n",
              "      <th>Unnamed: 0</th>\n",
              "      <td>0</td>\n",
              "    </tr>\n",
              "    <tr>\n",
              "      <th>match_id</th>\n",
              "      <td>0</td>\n",
              "    </tr>\n",
              "    <tr>\n",
              "      <th>map</th>\n",
              "      <td>0</td>\n",
              "    </tr>\n",
              "    <tr>\n",
              "      <th>map_size</th>\n",
              "      <td>0</td>\n",
              "    </tr>\n",
              "    <tr>\n",
              "      <th>duration</th>\n",
              "      <td>0</td>\n",
              "    </tr>\n",
              "    <tr>\n",
              "      <th>dataset</th>\n",
              "      <td>0</td>\n",
              "    </tr>\n",
              "    <tr>\n",
              "      <th>difficulty</th>\n",
              "      <td>0</td>\n",
              "    </tr>\n",
              "    <tr>\n",
              "      <th>elo</th>\n",
              "      <td>0</td>\n",
              "    </tr>\n",
              "    <tr>\n",
              "      <th>p1_civ</th>\n",
              "      <td>0</td>\n",
              "    </tr>\n",
              "    <tr>\n",
              "      <th>p2_civ</th>\n",
              "      <td>0</td>\n",
              "    </tr>\n",
              "    <tr>\n",
              "      <th>p1_xpos</th>\n",
              "      <td>29</td>\n",
              "    </tr>\n",
              "    <tr>\n",
              "      <th>p2_xpos</th>\n",
              "      <td>29</td>\n",
              "    </tr>\n",
              "    <tr>\n",
              "      <th>p1_ypos</th>\n",
              "      <td>29</td>\n",
              "    </tr>\n",
              "    <tr>\n",
              "      <th>p2_ypos</th>\n",
              "      <td>29</td>\n",
              "    </tr>\n",
              "    <tr>\n",
              "      <th>winner</th>\n",
              "      <td>0</td>\n",
              "    </tr>\n",
              "  </tbody>\n",
              "</table>\n",
              "</div><br><label><b>dtype:</b> int64</label>"
            ]
          },
          "metadata": {},
          "execution_count": 48
        }
      ],
      "source": [
        "# Verificar se há valores com NaN\n",
        "df.isna().sum()"
      ]
    },
    {
      "cell_type": "code",
      "execution_count": 49,
      "metadata": {
        "colab": {
          "base_uri": "https://localhost:8080/",
          "height": 206
        },
        "id": "PcFzhwBvXMgZ",
        "outputId": "8056c8ed-69eb-4fa8-8a3e-aadc158214e5"
      },
      "outputs": [
        {
          "output_type": "execute_result",
          "data": {
            "text/plain": [
              "       map  duration     elo   p1_civ   p2_civ  p1_xpos  p2_xpos  p1_ypos  \\\n",
              "0    Nomad        82  1144.5  Chinese  Spanish      NaN      NaN      NaN   \n",
              "1   Arabia       700  1083.5   Franks   Franks     92.0     62.0     80.0   \n",
              "2  Atacama      2520   981.0     Huns    Khmer     16.0    104.0     79.0   \n",
              "3   Haboob      2147   962.5    Celts   Franks     41.0     76.0     44.0   \n",
              "4   Arabia      2767   891.5   Franks   Franks     72.0     26.0     22.0   \n",
              "\n",
              "   p2_ypos  winner  \n",
              "0      NaN       1  \n",
              "1     20.0       0  \n",
              "2     42.0       0  \n",
              "3     77.0       1  \n",
              "4     81.0       1  "
            ],
            "text/html": [
              "\n",
              "  <div id=\"df-e1b16f36-50c3-4f24-bfd0-5b1e3ac60bf4\" class=\"colab-df-container\">\n",
              "    <div>\n",
              "<style scoped>\n",
              "    .dataframe tbody tr th:only-of-type {\n",
              "        vertical-align: middle;\n",
              "    }\n",
              "\n",
              "    .dataframe tbody tr th {\n",
              "        vertical-align: top;\n",
              "    }\n",
              "\n",
              "    .dataframe thead th {\n",
              "        text-align: right;\n",
              "    }\n",
              "</style>\n",
              "<table border=\"1\" class=\"dataframe\">\n",
              "  <thead>\n",
              "    <tr style=\"text-align: right;\">\n",
              "      <th></th>\n",
              "      <th>map</th>\n",
              "      <th>duration</th>\n",
              "      <th>elo</th>\n",
              "      <th>p1_civ</th>\n",
              "      <th>p2_civ</th>\n",
              "      <th>p1_xpos</th>\n",
              "      <th>p2_xpos</th>\n",
              "      <th>p1_ypos</th>\n",
              "      <th>p2_ypos</th>\n",
              "      <th>winner</th>\n",
              "    </tr>\n",
              "  </thead>\n",
              "  <tbody>\n",
              "    <tr>\n",
              "      <th>0</th>\n",
              "      <td>Nomad</td>\n",
              "      <td>82</td>\n",
              "      <td>1144.5</td>\n",
              "      <td>Chinese</td>\n",
              "      <td>Spanish</td>\n",
              "      <td>NaN</td>\n",
              "      <td>NaN</td>\n",
              "      <td>NaN</td>\n",
              "      <td>NaN</td>\n",
              "      <td>1</td>\n",
              "    </tr>\n",
              "    <tr>\n",
              "      <th>1</th>\n",
              "      <td>Arabia</td>\n",
              "      <td>700</td>\n",
              "      <td>1083.5</td>\n",
              "      <td>Franks</td>\n",
              "      <td>Franks</td>\n",
              "      <td>92.0</td>\n",
              "      <td>62.0</td>\n",
              "      <td>80.0</td>\n",
              "      <td>20.0</td>\n",
              "      <td>0</td>\n",
              "    </tr>\n",
              "    <tr>\n",
              "      <th>2</th>\n",
              "      <td>Atacama</td>\n",
              "      <td>2520</td>\n",
              "      <td>981.0</td>\n",
              "      <td>Huns</td>\n",
              "      <td>Khmer</td>\n",
              "      <td>16.0</td>\n",
              "      <td>104.0</td>\n",
              "      <td>79.0</td>\n",
              "      <td>42.0</td>\n",
              "      <td>0</td>\n",
              "    </tr>\n",
              "    <tr>\n",
              "      <th>3</th>\n",
              "      <td>Haboob</td>\n",
              "      <td>2147</td>\n",
              "      <td>962.5</td>\n",
              "      <td>Celts</td>\n",
              "      <td>Franks</td>\n",
              "      <td>41.0</td>\n",
              "      <td>76.0</td>\n",
              "      <td>44.0</td>\n",
              "      <td>77.0</td>\n",
              "      <td>1</td>\n",
              "    </tr>\n",
              "    <tr>\n",
              "      <th>4</th>\n",
              "      <td>Arabia</td>\n",
              "      <td>2767</td>\n",
              "      <td>891.5</td>\n",
              "      <td>Franks</td>\n",
              "      <td>Franks</td>\n",
              "      <td>72.0</td>\n",
              "      <td>26.0</td>\n",
              "      <td>22.0</td>\n",
              "      <td>81.0</td>\n",
              "      <td>1</td>\n",
              "    </tr>\n",
              "  </tbody>\n",
              "</table>\n",
              "</div>\n",
              "    <div class=\"colab-df-buttons\">\n",
              "\n",
              "  <div class=\"colab-df-container\">\n",
              "    <button class=\"colab-df-convert\" onclick=\"convertToInteractive('df-e1b16f36-50c3-4f24-bfd0-5b1e3ac60bf4')\"\n",
              "            title=\"Convert this dataframe to an interactive table.\"\n",
              "            style=\"display:none;\">\n",
              "\n",
              "  <svg xmlns=\"http://www.w3.org/2000/svg\" height=\"24px\" viewBox=\"0 -960 960 960\">\n",
              "    <path d=\"M120-120v-720h720v720H120Zm60-500h600v-160H180v160Zm220 220h160v-160H400v160Zm0 220h160v-160H400v160ZM180-400h160v-160H180v160Zm440 0h160v-160H620v160ZM180-180h160v-160H180v160Zm440 0h160v-160H620v160Z\"/>\n",
              "  </svg>\n",
              "    </button>\n",
              "\n",
              "  <style>\n",
              "    .colab-df-container {\n",
              "      display:flex;\n",
              "      gap: 12px;\n",
              "    }\n",
              "\n",
              "    .colab-df-convert {\n",
              "      background-color: #E8F0FE;\n",
              "      border: none;\n",
              "      border-radius: 50%;\n",
              "      cursor: pointer;\n",
              "      display: none;\n",
              "      fill: #1967D2;\n",
              "      height: 32px;\n",
              "      padding: 0 0 0 0;\n",
              "      width: 32px;\n",
              "    }\n",
              "\n",
              "    .colab-df-convert:hover {\n",
              "      background-color: #E2EBFA;\n",
              "      box-shadow: 0px 1px 2px rgba(60, 64, 67, 0.3), 0px 1px 3px 1px rgba(60, 64, 67, 0.15);\n",
              "      fill: #174EA6;\n",
              "    }\n",
              "\n",
              "    .colab-df-buttons div {\n",
              "      margin-bottom: 4px;\n",
              "    }\n",
              "\n",
              "    [theme=dark] .colab-df-convert {\n",
              "      background-color: #3B4455;\n",
              "      fill: #D2E3FC;\n",
              "    }\n",
              "\n",
              "    [theme=dark] .colab-df-convert:hover {\n",
              "      background-color: #434B5C;\n",
              "      box-shadow: 0px 1px 3px 1px rgba(0, 0, 0, 0.15);\n",
              "      filter: drop-shadow(0px 1px 2px rgba(0, 0, 0, 0.3));\n",
              "      fill: #FFFFFF;\n",
              "    }\n",
              "  </style>\n",
              "\n",
              "    <script>\n",
              "      const buttonEl =\n",
              "        document.querySelector('#df-e1b16f36-50c3-4f24-bfd0-5b1e3ac60bf4 button.colab-df-convert');\n",
              "      buttonEl.style.display =\n",
              "        google.colab.kernel.accessAllowed ? 'block' : 'none';\n",
              "\n",
              "      async function convertToInteractive(key) {\n",
              "        const element = document.querySelector('#df-e1b16f36-50c3-4f24-bfd0-5b1e3ac60bf4');\n",
              "        const dataTable =\n",
              "          await google.colab.kernel.invokeFunction('convertToInteractive',\n",
              "                                                    [key], {});\n",
              "        if (!dataTable) return;\n",
              "\n",
              "        const docLinkHtml = 'Like what you see? Visit the ' +\n",
              "          '<a target=\"_blank\" href=https://colab.research.google.com/notebooks/data_table.ipynb>data table notebook</a>'\n",
              "          + ' to learn more about interactive tables.';\n",
              "        element.innerHTML = '';\n",
              "        dataTable['output_type'] = 'display_data';\n",
              "        await google.colab.output.renderOutput(dataTable, element);\n",
              "        const docLink = document.createElement('div');\n",
              "        docLink.innerHTML = docLinkHtml;\n",
              "        element.appendChild(docLink);\n",
              "      }\n",
              "    </script>\n",
              "  </div>\n",
              "\n",
              "\n",
              "<div id=\"df-8158afa1-977a-4a3f-a572-e7633bf3fd85\">\n",
              "  <button class=\"colab-df-quickchart\" onclick=\"quickchart('df-8158afa1-977a-4a3f-a572-e7633bf3fd85')\"\n",
              "            title=\"Suggest charts\"\n",
              "            style=\"display:none;\">\n",
              "\n",
              "<svg xmlns=\"http://www.w3.org/2000/svg\" height=\"24px\"viewBox=\"0 0 24 24\"\n",
              "     width=\"24px\">\n",
              "    <g>\n",
              "        <path d=\"M19 3H5c-1.1 0-2 .9-2 2v14c0 1.1.9 2 2 2h14c1.1 0 2-.9 2-2V5c0-1.1-.9-2-2-2zM9 17H7v-7h2v7zm4 0h-2V7h2v10zm4 0h-2v-4h2v4z\"/>\n",
              "    </g>\n",
              "</svg>\n",
              "  </button>\n",
              "\n",
              "<style>\n",
              "  .colab-df-quickchart {\n",
              "      --bg-color: #E8F0FE;\n",
              "      --fill-color: #1967D2;\n",
              "      --hover-bg-color: #E2EBFA;\n",
              "      --hover-fill-color: #174EA6;\n",
              "      --disabled-fill-color: #AAA;\n",
              "      --disabled-bg-color: #DDD;\n",
              "  }\n",
              "\n",
              "  [theme=dark] .colab-df-quickchart {\n",
              "      --bg-color: #3B4455;\n",
              "      --fill-color: #D2E3FC;\n",
              "      --hover-bg-color: #434B5C;\n",
              "      --hover-fill-color: #FFFFFF;\n",
              "      --disabled-bg-color: #3B4455;\n",
              "      --disabled-fill-color: #666;\n",
              "  }\n",
              "\n",
              "  .colab-df-quickchart {\n",
              "    background-color: var(--bg-color);\n",
              "    border: none;\n",
              "    border-radius: 50%;\n",
              "    cursor: pointer;\n",
              "    display: none;\n",
              "    fill: var(--fill-color);\n",
              "    height: 32px;\n",
              "    padding: 0;\n",
              "    width: 32px;\n",
              "  }\n",
              "\n",
              "  .colab-df-quickchart:hover {\n",
              "    background-color: var(--hover-bg-color);\n",
              "    box-shadow: 0 1px 2px rgba(60, 64, 67, 0.3), 0 1px 3px 1px rgba(60, 64, 67, 0.15);\n",
              "    fill: var(--button-hover-fill-color);\n",
              "  }\n",
              "\n",
              "  .colab-df-quickchart-complete:disabled,\n",
              "  .colab-df-quickchart-complete:disabled:hover {\n",
              "    background-color: var(--disabled-bg-color);\n",
              "    fill: var(--disabled-fill-color);\n",
              "    box-shadow: none;\n",
              "  }\n",
              "\n",
              "  .colab-df-spinner {\n",
              "    border: 2px solid var(--fill-color);\n",
              "    border-color: transparent;\n",
              "    border-bottom-color: var(--fill-color);\n",
              "    animation:\n",
              "      spin 1s steps(1) infinite;\n",
              "  }\n",
              "\n",
              "  @keyframes spin {\n",
              "    0% {\n",
              "      border-color: transparent;\n",
              "      border-bottom-color: var(--fill-color);\n",
              "      border-left-color: var(--fill-color);\n",
              "    }\n",
              "    20% {\n",
              "      border-color: transparent;\n",
              "      border-left-color: var(--fill-color);\n",
              "      border-top-color: var(--fill-color);\n",
              "    }\n",
              "    30% {\n",
              "      border-color: transparent;\n",
              "      border-left-color: var(--fill-color);\n",
              "      border-top-color: var(--fill-color);\n",
              "      border-right-color: var(--fill-color);\n",
              "    }\n",
              "    40% {\n",
              "      border-color: transparent;\n",
              "      border-right-color: var(--fill-color);\n",
              "      border-top-color: var(--fill-color);\n",
              "    }\n",
              "    60% {\n",
              "      border-color: transparent;\n",
              "      border-right-color: var(--fill-color);\n",
              "    }\n",
              "    80% {\n",
              "      border-color: transparent;\n",
              "      border-right-color: var(--fill-color);\n",
              "      border-bottom-color: var(--fill-color);\n",
              "    }\n",
              "    90% {\n",
              "      border-color: transparent;\n",
              "      border-bottom-color: var(--fill-color);\n",
              "    }\n",
              "  }\n",
              "</style>\n",
              "\n",
              "  <script>\n",
              "    async function quickchart(key) {\n",
              "      const quickchartButtonEl =\n",
              "        document.querySelector('#' + key + ' button');\n",
              "      quickchartButtonEl.disabled = true;  // To prevent multiple clicks.\n",
              "      quickchartButtonEl.classList.add('colab-df-spinner');\n",
              "      try {\n",
              "        const charts = await google.colab.kernel.invokeFunction(\n",
              "            'suggestCharts', [key], {});\n",
              "      } catch (error) {\n",
              "        console.error('Error during call to suggestCharts:', error);\n",
              "      }\n",
              "      quickchartButtonEl.classList.remove('colab-df-spinner');\n",
              "      quickchartButtonEl.classList.add('colab-df-quickchart-complete');\n",
              "    }\n",
              "    (() => {\n",
              "      let quickchartButtonEl =\n",
              "        document.querySelector('#df-8158afa1-977a-4a3f-a572-e7633bf3fd85 button');\n",
              "      quickchartButtonEl.style.display =\n",
              "        google.colab.kernel.accessAllowed ? 'block' : 'none';\n",
              "    })();\n",
              "  </script>\n",
              "</div>\n",
              "\n",
              "    </div>\n",
              "  </div>\n"
            ],
            "application/vnd.google.colaboratory.intrinsic+json": {
              "type": "dataframe",
              "variable_name": "df",
              "summary": "{\n  \"name\": \"df\",\n  \"rows\": 500,\n  \"fields\": [\n    {\n      \"column\": \"map\",\n      \"properties\": {\n        \"dtype\": \"category\",\n        \"num_unique_values\": 36,\n        \"samples\": [\n          \"Team Islands\",\n          \"Aftermath\",\n          \"Mongolia\"\n        ],\n        \"semantic_type\": \"\",\n        \"description\": \"\"\n      }\n    },\n    {\n      \"column\": \"duration\",\n      \"properties\": {\n        \"dtype\": \"number\",\n        \"std\": 998,\n        \"min\": 1,\n        \"max\": 5743,\n        \"num_unique_values\": 460,\n        \"samples\": [\n          2180,\n          2870,\n          1\n        ],\n        \"semantic_type\": \"\",\n        \"description\": \"\"\n      }\n    },\n    {\n      \"column\": \"elo\",\n      \"properties\": {\n        \"dtype\": \"number\",\n        \"std\": 220.9529471645975,\n        \"min\": 800.0,\n        \"max\": 2188.5,\n        \"num_unique_values\": 405,\n        \"samples\": [\n          931.5,\n          886.0,\n          988.0\n        ],\n        \"semantic_type\": \"\",\n        \"description\": \"\"\n      }\n    },\n    {\n      \"column\": \"p1_civ\",\n      \"properties\": {\n        \"dtype\": \"category\",\n        \"num_unique_values\": 39,\n        \"samples\": [\n          \"Bulgarians\",\n          \"Teutons\",\n          \"Britons\"\n        ],\n        \"semantic_type\": \"\",\n        \"description\": \"\"\n      }\n    },\n    {\n      \"column\": \"p2_civ\",\n      \"properties\": {\n        \"dtype\": \"category\",\n        \"num_unique_values\": 39,\n        \"samples\": [\n          \"Japanese\",\n          \"Malians\",\n          \"Britons\"\n        ],\n        \"semantic_type\": \"\",\n        \"description\": \"\"\n      }\n    },\n    {\n      \"column\": \"p1_xpos\",\n      \"properties\": {\n        \"dtype\": \"number\",\n        \"std\": 28.59614839030048,\n        \"min\": 10.0,\n        \"max\": 106.0,\n        \"num_unique_values\": 91,\n        \"samples\": [\n          30.0,\n          15.0,\n          22.0\n        ],\n        \"semantic_type\": \"\",\n        \"description\": \"\"\n      }\n    },\n    {\n      \"column\": \"p2_xpos\",\n      \"properties\": {\n        \"dtype\": \"number\",\n        \"std\": 29.23365873594768,\n        \"min\": 11.0,\n        \"max\": 107.0,\n        \"num_unique_values\": 96,\n        \"samples\": [\n          36.0,\n          87.0,\n          100.0\n        ],\n        \"semantic_type\": \"\",\n        \"description\": \"\"\n      }\n    },\n    {\n      \"column\": \"p1_ypos\",\n      \"properties\": {\n        \"dtype\": \"number\",\n        \"std\": 28.786111150143146,\n        \"min\": 9.0,\n        \"max\": 107.0,\n        \"num_unique_values\": 92,\n        \"samples\": [\n          95.0,\n          90.0,\n          29.0\n        ],\n        \"semantic_type\": \"\",\n        \"description\": \"\"\n      }\n    },\n    {\n      \"column\": \"p2_ypos\",\n      \"properties\": {\n        \"dtype\": \"number\",\n        \"std\": 28.164011223735287,\n        \"min\": 12.0,\n        \"max\": 107.0,\n        \"num_unique_values\": 92,\n        \"samples\": [\n          107.0,\n          60.0,\n          94.0\n        ],\n        \"semantic_type\": \"\",\n        \"description\": \"\"\n      }\n    },\n    {\n      \"column\": \"winner\",\n      \"properties\": {\n        \"dtype\": \"number\",\n        \"std\": 0,\n        \"min\": 0,\n        \"max\": 1,\n        \"num_unique_values\": 2,\n        \"samples\": [\n          0,\n          1\n        ],\n        \"semantic_type\": \"\",\n        \"description\": \"\"\n      }\n    }\n  ]\n}"
            }
          },
          "metadata": {},
          "execution_count": 49
        }
      ],
      "source": [
        "df.drop(['Unnamed: 0', 'match_id', 'map_size', 'dataset', 'difficulty'], axis=1, inplace=True)\n",
        "df.head()"
      ]
    },
    {
      "cell_type": "code",
      "execution_count": 50,
      "metadata": {
        "colab": {
          "base_uri": "https://localhost:8080/"
        },
        "id": "gXxVJ-q9XOWZ",
        "outputId": "2228691f-79bf-4991-8ec6-f30ba45498d9"
      },
      "outputs": [
        {
          "output_type": "stream",
          "name": "stdout",
          "text": [
            "            map  duration     elo      p1_civ       p2_civ  p1_xpos  p2_xpos  \\\n",
            "1        Arabia       700  1083.5      Franks       Franks     92.0     62.0   \n",
            "2       Atacama      2520   981.0        Huns        Khmer     16.0    104.0   \n",
            "3        Haboob      2147   962.5       Celts       Franks     41.0     76.0   \n",
            "4        Arabia      2767   891.5      Franks       Franks     72.0     26.0   \n",
            "5    MegaRandom      2681  1024.5       Celts   Byzantines     87.0     63.0   \n",
            "..          ...       ...     ...         ...          ...      ...      ...   \n",
            "495  Runestones      2836  1139.0  Byzantines        Incas     44.0     95.0   \n",
            "496   Aftermath      1461  1158.0        Huns     Persians     94.0     26.0   \n",
            "497      Arabia      2454  1310.5     Magyars  Lithuanians     54.0     75.0   \n",
            "498  Four Lakes      1688   861.5     Chinese       Tatars     78.0     25.0   \n",
            "499      Arabia      2193  1117.0    Persians      Magyars     55.0     50.0   \n",
            "\n",
            "     p1_ypos  p2_ypos  winner  \n",
            "1       80.0     20.0       0  \n",
            "2       79.0     42.0       0  \n",
            "3       44.0     77.0       1  \n",
            "4       22.0     81.0       1  \n",
            "5       86.0     22.0       0  \n",
            "..       ...      ...     ...  \n",
            "495     23.0     78.0       1  \n",
            "496     39.0     82.0       0  \n",
            "497     99.0     23.0       1  \n",
            "498     26.0     76.0       1  \n",
            "499     99.0     21.0       1  \n",
            "\n",
            "[471 rows x 10 columns]\n"
          ]
        }
      ],
      "source": [
        "# # Média p1_xpos\n",
        "# med_p1x = df['p1_xpos'].mean()\n",
        "# df['p1_xpos'].fillna(med_p1x, inplace=True)\n",
        "\n",
        "# # Média p2_xpos\n",
        "# med_p2x = df['p2_xpos'].mean()\n",
        "# df['p2_xpos'].fillna(med_p2x, inplace=True)\n",
        "\n",
        "# # Média p1_ypos\n",
        "# med_p1y = df['p1_ypos'].mean()\n",
        "# df['p1_ypos'].fillna(med_p1y, inplace=True)\n",
        "\n",
        "\n",
        "# # Média p2_ypos\n",
        "# med_p2y = df['p2_ypos'].mean()\n",
        "# df['p2_ypos'].fillna(med_p2y, inplace=True)\n",
        "\n",
        "df.dropna(inplace=True)\n",
        "df.isna().sum()\n",
        "print(df)"
      ]
    },
    {
      "cell_type": "markdown",
      "metadata": {
        "id": "IgqWLRmoty4e"
      },
      "source": [
        "## Label encoding"
      ]
    },
    {
      "cell_type": "code",
      "execution_count": 51,
      "metadata": {
        "id": "Fj0pdsY50OjF"
      },
      "outputs": [],
      "source": [
        "# le_map = LabelEncoder()\n",
        "\n",
        "# df['map_encoded'] = le_map.fit_transform(df['map'])\n",
        "\n",
        "\n",
        "# le_civ = LabelEncoder()\n",
        "# df['p1_civ_encoded'] = le_civ.fit_transform(df['p1_civ'])\n",
        "\n",
        "# le_civ2 = LabelEncoder()\n",
        "# df['p2_civ_encoded'] = le_civ2.fit_transform(df['p2_civ'])\n",
        "\n",
        "# df.head()"
      ]
    },
    {
      "cell_type": "markdown",
      "metadata": {
        "id": "2UazuYDIt5iB"
      },
      "source": [
        "## One hot"
      ]
    },
    {
      "cell_type": "code",
      "execution_count": 52,
      "metadata": {
        "colab": {
          "base_uri": "https://localhost:8080/",
          "height": 1000
        },
        "id": "SudHLL_vt7VA",
        "outputId": "288b1760-4caf-4d96-cbd6-f5fd1e0b6b51",
        "collapsed": true
      },
      "outputs": [
        {
          "output_type": "error",
          "ename": "ValueError",
          "evalue": "Expected 2D array, got 1D array instead:\narray=['Arabia' 'Atacama' 'Haboob' 'Arabia' 'MegaRandom' 'Golden Swamp'\n 'Gold Rush' 'Acropolis' 'Arabia' 'Arabia' 'Ghost Lake' 'Arabia' 'Arabia'\n 'Arabia' 'Arabia' 'Four Lakes' 'Arabia' 'Arabia' 'Arabia' 'Arabia'\n 'Arabia' 'Arabia' 'Arabia' 'Arabia' 'Socotra' 'Arabia' 'Arena' 'Arabia'\n 'Arabia' 'Arabia' 'Arena' 'Arabia' 'Arabia' 'Arabia' 'Arabia' 'Aftermath'\n 'Arabia' 'Arabia' 'Arabia' 'Arabia' 'Arabia' 'Arabia' 'Arabia'\n 'Four Lakes' 'Arabia' 'Arena' 'Arabia' 'Arabia' 'Arabia' 'Archipelago'\n 'Migration' 'Arabia' 'Arena' 'Arabia' 'Socotra' 'Wade' 'Arabia'\n 'Runestones' 'Hideout' 'Arena' 'Arabia' 'Arena' 'Arabia' 'Golden Swamp'\n 'Hideout' 'Arabia' 'Arabia' 'Arabia' 'Arabia' 'Arabia' 'Arabia' 'Arabia'\n 'Arabia' 'Arabia' 'Arabia' 'Four Lakes' 'Arabia' 'Arabia' 'Arabia'\n 'Arabia' 'Four Lakes' 'Arabia' 'Crater' 'Arabia' 'Arabia' 'Arabia'\n 'Acropolis' 'Arabia' 'Four Lakes' 'Arena' 'Four Lakes' 'Arabia' 'Arabia'\n 'Golden Pit' 'Runestones' 'Ghost Lake' 'Golden Pit' 'Arabia' 'Arena'\n 'Arabia' 'Arabia' 'Arabia' 'Runestones' 'Arabia' 'Arena' 'Arabia'\n 'Arabia' 'Arabia' 'Ghost Lake' 'Arabia' 'Arabia' 'Socotra' 'Arabia'\n 'Arabia' 'Acropolis' 'Arabia' 'Arabia' 'Acropolis' 'Arena' 'Arabia'\n 'Arena' 'Arabia' 'Arabia' 'Runestones' 'Arabia' 'Golden Pit' 'Arabia'\n 'Arabia' 'Runestones' 'Arena' 'Arabia' 'Arabia' 'Arabia' 'Arabia'\n 'Arabia' 'Arabia' 'Arabia' 'Arabia' 'Arabia' 'Arabia' 'Arena' 'Arabia'\n 'Serengeti' 'Arabia' 'Arabia' 'Arabia' 'Arabia' 'Arabia' 'Arabia'\n 'Arabia' 'Runestones' 'Arena' 'Arabia' 'Arabia' 'Arabia' 'Arena' 'Arabia'\n 'Arabia' 'Arabia' 'Arabia' 'Arabia' 'Arabia' 'Arabia' 'Arabia'\n 'Acropolis' 'Runestones' 'Arabia' 'Arabia' 'Arabia' 'Arabia' 'Arena'\n 'Arabia' 'Runestones' 'Land Madness' 'Arabia' 'Arabia' 'Atacama' 'Arabia'\n 'Hideout' 'Arabia' 'MegaRandom' 'Valley' 'Arabia' 'Arabia' 'Runestones'\n 'Atacama' 'Arabia' 'Arabia' 'Arabia' 'Runestones' 'Arabia' 'Arabia'\n 'Arena' 'Golden Pit' 'Migration' 'Arena' 'Arabia' 'Arabia' 'Arabia'\n 'Hideout' 'Fortress' 'Arabia' 'Arabia' 'Runestones' 'Hill Fort' 'Hideout'\n 'Mongolia' 'Arabia' 'Arabia' 'Arabia' 'Golden Pit' 'Arabia' 'Arabia'\n 'Arabia' 'Arabia' 'Arabia' 'Arena' 'Hideout' 'Golden Pit' 'Arabia'\n 'Islands' 'Arabia' 'Arabia' 'MegaRandom' 'Arabia' 'Arabia' 'Arena'\n 'Arabia' 'Arena' 'Arabia' 'Lombardia' 'Arabia' 'Arabia' 'Hideout'\n 'Arabia' 'Four Lakes' 'Arabia' 'MegaRandom' 'Arabia' 'Socotra' 'Arabia'\n 'Arabia' 'Arabia' 'Arabia' 'Arabia' 'Four Lakes' 'Gold Rush' 'Haboob'\n 'Arabia' 'Atacama' 'Runestones' 'Arabia' 'Arabia' 'Arabia' 'Arabia'\n 'Arabia' 'Arabia' 'Arabia' 'Arabia' 'Arena' 'Arabia' 'Arabia' 'Arabia'\n 'Arabia' 'Arabia' 'Arena' 'Arena' 'Arabia' 'Arabia' 'Arabia' 'Arabia'\n 'Golden Pit' 'Golden Pit' 'Valley' 'Arena' 'Atacama' 'Arabia'\n 'Four Lakes' 'Islands' 'Arabia' 'Arabia' 'Arabia' 'Arabia' 'Arabia'\n 'Arabia' 'Hideout' 'Golden Pit' 'Arabia' 'Gold Rush' 'Arena' 'Arabia'\n 'Ghost Lake' 'Valley' 'Atacama' 'Arabia' 'Arabia' 'Runestones' 'Arabia'\n 'Arabia' 'Land Madness' 'Arabia' 'Arabia' 'Arabia' 'Acropolis' 'Arabia'\n 'Arabia' 'Crater' 'Arabia' 'Arabia' 'Arabia' 'Arabia' 'Atacama' 'Arena'\n 'Arabia' 'Arena' 'Arabia' 'Arena' 'MegaRandom' 'Arena' 'Migration'\n 'Four Lakes' 'Arena' 'Yucatan' 'Arabia' 'Archipelago' 'Arabia' 'Arena'\n 'Arabia' 'Golden Pit' 'Arena' 'Arabia' 'Arena' 'Arena' 'Four Lakes'\n 'Acropolis' 'Arabia' 'Arabia' 'Arabia' 'Socotra' 'Arena' 'Arabia'\n 'Four Lakes' 'Arabia' 'Land Madness' 'Arena' 'Arabia' 'Acropolis'\n 'Arabia' 'Arabia' 'Arabia' 'Arabia' 'Arena' 'Arena' 'Golden Pit'\n 'Runestones' 'Arabia' 'Arena' 'Arabia' 'Arena' 'Arabia' 'Arabia' 'Arabia'\n 'Arabia' 'Arabia' 'Arabia' 'Arabia' 'Arabia' 'Four Lakes' 'Arabia'\n 'Arabia' 'Valley' 'Arabia' 'Runestones' 'Arabia' 'Arena' 'Arabia'\n 'Marketplace' 'Arena' 'Arabia' 'Arabia' 'Arabia' 'Arabia' 'Arabia'\n 'Arabia' 'Socotra' 'Arena' 'Arabia' 'Arena' 'Arena' 'Volcanic Island'\n 'Arabia' 'Arabia' 'Arabia' 'Arabia' 'Arabia' 'Valley' 'Arena' 'Arabia'\n 'Arabia' 'Arabia' 'Arabia' 'Arabia' 'Arena' 'Arabia' 'Arabia' 'Arabia'\n 'Arena' 'Arabia' 'Four Lakes' 'Arabia' 'Arabia' 'Atacama' 'Fortress'\n 'Socotra' 'Arabia' 'Arabia' 'Arabia' 'Arabia' 'Runestones' 'Arabia'\n 'Arabia' 'Arabia' 'Arabia' 'Arena' 'Arena' 'Arabia' 'Arabia' 'Arena'\n 'Ghost Lake' 'Arabia' 'Arena' 'Arabia' 'Arabia' 'Arabia' 'Arabia'\n 'Arabia' 'Arena' 'Mediterranean' 'Arabia' 'Arabia' 'Arabia' 'Gold Rush'\n 'Arabia' 'Arabia' 'MegaRandom' 'Arena' 'Team Islands' 'Arabia' 'Arabia'\n 'Arabia' 'Arena' 'Arabia' 'Lombardia' 'Arabia' 'Hill Fort' 'Valley'\n 'Arabia' 'Arena' 'Arabia' 'Arabia' 'Arabia' 'Arabia' 'Arabia' 'Arabia'\n 'Arena' 'Arabia' 'Runestones' 'Aftermath' 'Arabia' 'Four Lakes' 'Arabia'].\nReshape your data either using array.reshape(-1, 1) if your data has a single feature or array.reshape(1, -1) if it contains a single sample.",
          "traceback": [
            "\u001b[0;31m---------------------------------------------------------------------------\u001b[0m",
            "\u001b[0;31mValueError\u001b[0m                                Traceback (most recent call last)",
            "\u001b[0;32m<ipython-input-52-81ab2a704256>\u001b[0m in \u001b[0;36m<cell line: 7>\u001b[0;34m()\u001b[0m\n\u001b[1;32m      5\u001b[0m \u001b[0;34m\u001b[0m\u001b[0m\n\u001b[1;32m      6\u001b[0m \u001b[0;31m# Convertendo os dados categóricos em numéricos (matriz densa)\u001b[0m\u001b[0;34m\u001b[0m\u001b[0;34m\u001b[0m\u001b[0m\n\u001b[0;32m----> 7\u001b[0;31m \u001b[0mnumeric_data\u001b[0m \u001b[0;34m=\u001b[0m \u001b[0monehot_encoder\u001b[0m\u001b[0;34m.\u001b[0m\u001b[0mfit_transform\u001b[0m\u001b[0;34m(\u001b[0m\u001b[0mcategorical_data\u001b[0m\u001b[0;34m)\u001b[0m\u001b[0;34m\u001b[0m\u001b[0;34m\u001b[0m\u001b[0m\n\u001b[0m\u001b[1;32m      8\u001b[0m \u001b[0;34m\u001b[0m\u001b[0m\n\u001b[1;32m      9\u001b[0m \u001b[0;31m# Exibindo os resultados\u001b[0m\u001b[0;34m\u001b[0m\u001b[0;34m\u001b[0m\u001b[0m\n",
            "\u001b[0;32m/usr/local/lib/python3.10/dist-packages/sklearn/utils/_set_output.py\u001b[0m in \u001b[0;36mwrapped\u001b[0;34m(self, X, *args, **kwargs)\u001b[0m\n\u001b[1;32m    314\u001b[0m     \u001b[0;34m@\u001b[0m\u001b[0mwraps\u001b[0m\u001b[0;34m(\u001b[0m\u001b[0mf\u001b[0m\u001b[0;34m)\u001b[0m\u001b[0;34m\u001b[0m\u001b[0;34m\u001b[0m\u001b[0m\n\u001b[1;32m    315\u001b[0m     \u001b[0;32mdef\u001b[0m \u001b[0mwrapped\u001b[0m\u001b[0;34m(\u001b[0m\u001b[0mself\u001b[0m\u001b[0;34m,\u001b[0m \u001b[0mX\u001b[0m\u001b[0;34m,\u001b[0m \u001b[0;34m*\u001b[0m\u001b[0margs\u001b[0m\u001b[0;34m,\u001b[0m \u001b[0;34m**\u001b[0m\u001b[0mkwargs\u001b[0m\u001b[0;34m)\u001b[0m\u001b[0;34m:\u001b[0m\u001b[0;34m\u001b[0m\u001b[0;34m\u001b[0m\u001b[0m\n\u001b[0;32m--> 316\u001b[0;31m         \u001b[0mdata_to_wrap\u001b[0m \u001b[0;34m=\u001b[0m \u001b[0mf\u001b[0m\u001b[0;34m(\u001b[0m\u001b[0mself\u001b[0m\u001b[0;34m,\u001b[0m \u001b[0mX\u001b[0m\u001b[0;34m,\u001b[0m \u001b[0;34m*\u001b[0m\u001b[0margs\u001b[0m\u001b[0;34m,\u001b[0m \u001b[0;34m**\u001b[0m\u001b[0mkwargs\u001b[0m\u001b[0;34m)\u001b[0m\u001b[0;34m\u001b[0m\u001b[0;34m\u001b[0m\u001b[0m\n\u001b[0m\u001b[1;32m    317\u001b[0m         \u001b[0;32mif\u001b[0m \u001b[0misinstance\u001b[0m\u001b[0;34m(\u001b[0m\u001b[0mdata_to_wrap\u001b[0m\u001b[0;34m,\u001b[0m \u001b[0mtuple\u001b[0m\u001b[0;34m)\u001b[0m\u001b[0;34m:\u001b[0m\u001b[0;34m\u001b[0m\u001b[0;34m\u001b[0m\u001b[0m\n\u001b[1;32m    318\u001b[0m             \u001b[0;31m# only wrap the first output for cross decomposition\u001b[0m\u001b[0;34m\u001b[0m\u001b[0;34m\u001b[0m\u001b[0m\n",
            "\u001b[0;32m/usr/local/lib/python3.10/dist-packages/sklearn/base.py\u001b[0m in \u001b[0;36mfit_transform\u001b[0;34m(self, X, y, **fit_params)\u001b[0m\n\u001b[1;32m   1096\u001b[0m         \u001b[0;32mif\u001b[0m \u001b[0my\u001b[0m \u001b[0;32mis\u001b[0m \u001b[0;32mNone\u001b[0m\u001b[0;34m:\u001b[0m\u001b[0;34m\u001b[0m\u001b[0;34m\u001b[0m\u001b[0m\n\u001b[1;32m   1097\u001b[0m             \u001b[0;31m# fit method of arity 1 (unsupervised transformation)\u001b[0m\u001b[0;34m\u001b[0m\u001b[0;34m\u001b[0m\u001b[0m\n\u001b[0;32m-> 1098\u001b[0;31m             \u001b[0;32mreturn\u001b[0m \u001b[0mself\u001b[0m\u001b[0;34m.\u001b[0m\u001b[0mfit\u001b[0m\u001b[0;34m(\u001b[0m\u001b[0mX\u001b[0m\u001b[0;34m,\u001b[0m \u001b[0;34m**\u001b[0m\u001b[0mfit_params\u001b[0m\u001b[0;34m)\u001b[0m\u001b[0;34m.\u001b[0m\u001b[0mtransform\u001b[0m\u001b[0;34m(\u001b[0m\u001b[0mX\u001b[0m\u001b[0;34m)\u001b[0m\u001b[0;34m\u001b[0m\u001b[0;34m\u001b[0m\u001b[0m\n\u001b[0m\u001b[1;32m   1099\u001b[0m         \u001b[0;32melse\u001b[0m\u001b[0;34m:\u001b[0m\u001b[0;34m\u001b[0m\u001b[0;34m\u001b[0m\u001b[0m\n\u001b[1;32m   1100\u001b[0m             \u001b[0;31m# fit method of arity 2 (supervised transformation)\u001b[0m\u001b[0;34m\u001b[0m\u001b[0;34m\u001b[0m\u001b[0m\n",
            "\u001b[0;32m/usr/local/lib/python3.10/dist-packages/sklearn/base.py\u001b[0m in \u001b[0;36mwrapper\u001b[0;34m(estimator, *args, **kwargs)\u001b[0m\n\u001b[1;32m   1471\u001b[0m                 )\n\u001b[1;32m   1472\u001b[0m             ):\n\u001b[0;32m-> 1473\u001b[0;31m                 \u001b[0;32mreturn\u001b[0m \u001b[0mfit_method\u001b[0m\u001b[0;34m(\u001b[0m\u001b[0mestimator\u001b[0m\u001b[0;34m,\u001b[0m \u001b[0;34m*\u001b[0m\u001b[0margs\u001b[0m\u001b[0;34m,\u001b[0m \u001b[0;34m**\u001b[0m\u001b[0mkwargs\u001b[0m\u001b[0;34m)\u001b[0m\u001b[0;34m\u001b[0m\u001b[0;34m\u001b[0m\u001b[0m\n\u001b[0m\u001b[1;32m   1474\u001b[0m \u001b[0;34m\u001b[0m\u001b[0m\n\u001b[1;32m   1475\u001b[0m         \u001b[0;32mreturn\u001b[0m \u001b[0mwrapper\u001b[0m\u001b[0;34m\u001b[0m\u001b[0;34m\u001b[0m\u001b[0m\n",
            "\u001b[0;32m/usr/local/lib/python3.10/dist-packages/sklearn/preprocessing/_encoders.py\u001b[0m in \u001b[0;36mfit\u001b[0;34m(self, X, y)\u001b[0m\n\u001b[1;32m    974\u001b[0m             \u001b[0mFitted\u001b[0m \u001b[0mencoder\u001b[0m\u001b[0;34m.\u001b[0m\u001b[0;34m\u001b[0m\u001b[0;34m\u001b[0m\u001b[0m\n\u001b[1;32m    975\u001b[0m         \"\"\"\n\u001b[0;32m--> 976\u001b[0;31m         self._fit(\n\u001b[0m\u001b[1;32m    977\u001b[0m             \u001b[0mX\u001b[0m\u001b[0;34m,\u001b[0m\u001b[0;34m\u001b[0m\u001b[0;34m\u001b[0m\u001b[0m\n\u001b[1;32m    978\u001b[0m             \u001b[0mhandle_unknown\u001b[0m\u001b[0;34m=\u001b[0m\u001b[0mself\u001b[0m\u001b[0;34m.\u001b[0m\u001b[0mhandle_unknown\u001b[0m\u001b[0;34m,\u001b[0m\u001b[0;34m\u001b[0m\u001b[0;34m\u001b[0m\u001b[0m\n",
            "\u001b[0;32m/usr/local/lib/python3.10/dist-packages/sklearn/preprocessing/_encoders.py\u001b[0m in \u001b[0;36m_fit\u001b[0;34m(self, X, handle_unknown, force_all_finite, return_counts, return_and_ignore_missing_for_infrequent)\u001b[0m\n\u001b[1;32m     77\u001b[0m         \u001b[0mself\u001b[0m\u001b[0;34m.\u001b[0m\u001b[0m_check_n_features\u001b[0m\u001b[0;34m(\u001b[0m\u001b[0mX\u001b[0m\u001b[0;34m,\u001b[0m \u001b[0mreset\u001b[0m\u001b[0;34m=\u001b[0m\u001b[0;32mTrue\u001b[0m\u001b[0;34m)\u001b[0m\u001b[0;34m\u001b[0m\u001b[0;34m\u001b[0m\u001b[0m\n\u001b[1;32m     78\u001b[0m         \u001b[0mself\u001b[0m\u001b[0;34m.\u001b[0m\u001b[0m_check_feature_names\u001b[0m\u001b[0;34m(\u001b[0m\u001b[0mX\u001b[0m\u001b[0;34m,\u001b[0m \u001b[0mreset\u001b[0m\u001b[0;34m=\u001b[0m\u001b[0;32mTrue\u001b[0m\u001b[0;34m)\u001b[0m\u001b[0;34m\u001b[0m\u001b[0;34m\u001b[0m\u001b[0m\n\u001b[0;32m---> 79\u001b[0;31m         X_list, n_samples, n_features = self._check_X(\n\u001b[0m\u001b[1;32m     80\u001b[0m             \u001b[0mX\u001b[0m\u001b[0;34m,\u001b[0m \u001b[0mforce_all_finite\u001b[0m\u001b[0;34m=\u001b[0m\u001b[0mforce_all_finite\u001b[0m\u001b[0;34m\u001b[0m\u001b[0;34m\u001b[0m\u001b[0m\n\u001b[1;32m     81\u001b[0m         )\n",
            "\u001b[0;32m/usr/local/lib/python3.10/dist-packages/sklearn/preprocessing/_encoders.py\u001b[0m in \u001b[0;36m_check_X\u001b[0;34m(self, X, force_all_finite)\u001b[0m\n\u001b[1;32m     43\u001b[0m         \u001b[0;32mif\u001b[0m \u001b[0;32mnot\u001b[0m \u001b[0;34m(\u001b[0m\u001b[0mhasattr\u001b[0m\u001b[0;34m(\u001b[0m\u001b[0mX\u001b[0m\u001b[0;34m,\u001b[0m \u001b[0;34m\"iloc\"\u001b[0m\u001b[0;34m)\u001b[0m \u001b[0;32mand\u001b[0m \u001b[0mgetattr\u001b[0m\u001b[0;34m(\u001b[0m\u001b[0mX\u001b[0m\u001b[0;34m,\u001b[0m \u001b[0;34m\"ndim\"\u001b[0m\u001b[0;34m,\u001b[0m \u001b[0;36m0\u001b[0m\u001b[0;34m)\u001b[0m \u001b[0;34m==\u001b[0m \u001b[0;36m2\u001b[0m\u001b[0;34m)\u001b[0m\u001b[0;34m:\u001b[0m\u001b[0;34m\u001b[0m\u001b[0;34m\u001b[0m\u001b[0m\n\u001b[1;32m     44\u001b[0m             \u001b[0;31m# if not a dataframe, do normal check_array validation\u001b[0m\u001b[0;34m\u001b[0m\u001b[0;34m\u001b[0m\u001b[0m\n\u001b[0;32m---> 45\u001b[0;31m             \u001b[0mX_temp\u001b[0m \u001b[0;34m=\u001b[0m \u001b[0mcheck_array\u001b[0m\u001b[0;34m(\u001b[0m\u001b[0mX\u001b[0m\u001b[0;34m,\u001b[0m \u001b[0mdtype\u001b[0m\u001b[0;34m=\u001b[0m\u001b[0;32mNone\u001b[0m\u001b[0;34m,\u001b[0m \u001b[0mforce_all_finite\u001b[0m\u001b[0;34m=\u001b[0m\u001b[0mforce_all_finite\u001b[0m\u001b[0;34m)\u001b[0m\u001b[0;34m\u001b[0m\u001b[0;34m\u001b[0m\u001b[0m\n\u001b[0m\u001b[1;32m     46\u001b[0m             \u001b[0;32mif\u001b[0m \u001b[0;32mnot\u001b[0m \u001b[0mhasattr\u001b[0m\u001b[0;34m(\u001b[0m\u001b[0mX\u001b[0m\u001b[0;34m,\u001b[0m \u001b[0;34m\"dtype\"\u001b[0m\u001b[0;34m)\u001b[0m \u001b[0;32mand\u001b[0m \u001b[0mnp\u001b[0m\u001b[0;34m.\u001b[0m\u001b[0missubdtype\u001b[0m\u001b[0;34m(\u001b[0m\u001b[0mX_temp\u001b[0m\u001b[0;34m.\u001b[0m\u001b[0mdtype\u001b[0m\u001b[0;34m,\u001b[0m \u001b[0mnp\u001b[0m\u001b[0;34m.\u001b[0m\u001b[0mstr_\u001b[0m\u001b[0;34m)\u001b[0m\u001b[0;34m:\u001b[0m\u001b[0;34m\u001b[0m\u001b[0;34m\u001b[0m\u001b[0m\n\u001b[1;32m     47\u001b[0m                 \u001b[0mX\u001b[0m \u001b[0;34m=\u001b[0m \u001b[0mcheck_array\u001b[0m\u001b[0;34m(\u001b[0m\u001b[0mX\u001b[0m\u001b[0;34m,\u001b[0m \u001b[0mdtype\u001b[0m\u001b[0;34m=\u001b[0m\u001b[0mobject\u001b[0m\u001b[0;34m,\u001b[0m \u001b[0mforce_all_finite\u001b[0m\u001b[0;34m=\u001b[0m\u001b[0mforce_all_finite\u001b[0m\u001b[0;34m)\u001b[0m\u001b[0;34m\u001b[0m\u001b[0;34m\u001b[0m\u001b[0m\n",
            "\u001b[0;32m/usr/local/lib/python3.10/dist-packages/sklearn/utils/validation.py\u001b[0m in \u001b[0;36mcheck_array\u001b[0;34m(array, accept_sparse, accept_large_sparse, dtype, order, copy, force_writeable, force_all_finite, ensure_2d, allow_nd, ensure_min_samples, ensure_min_features, estimator, input_name)\u001b[0m\n\u001b[1;32m   1048\u001b[0m                         \u001b[0;34m\"if it contains a single sample.\"\u001b[0m\u001b[0;34m\u001b[0m\u001b[0;34m\u001b[0m\u001b[0m\n\u001b[1;32m   1049\u001b[0m                     )\n\u001b[0;32m-> 1050\u001b[0;31m                 \u001b[0;32mraise\u001b[0m \u001b[0mValueError\u001b[0m\u001b[0;34m(\u001b[0m\u001b[0mmsg\u001b[0m\u001b[0;34m)\u001b[0m\u001b[0;34m\u001b[0m\u001b[0;34m\u001b[0m\u001b[0m\n\u001b[0m\u001b[1;32m   1051\u001b[0m \u001b[0;34m\u001b[0m\u001b[0m\n\u001b[1;32m   1052\u001b[0m         \u001b[0;32mif\u001b[0m \u001b[0mdtype_numeric\u001b[0m \u001b[0;32mand\u001b[0m \u001b[0mhasattr\u001b[0m\u001b[0;34m(\u001b[0m\u001b[0marray\u001b[0m\u001b[0;34m.\u001b[0m\u001b[0mdtype\u001b[0m\u001b[0;34m,\u001b[0m \u001b[0;34m\"kind\"\u001b[0m\u001b[0;34m)\u001b[0m \u001b[0;32mand\u001b[0m \u001b[0marray\u001b[0m\u001b[0;34m.\u001b[0m\u001b[0mdtype\u001b[0m\u001b[0;34m.\u001b[0m\u001b[0mkind\u001b[0m \u001b[0;32min\u001b[0m \u001b[0;34m\"USV\"\u001b[0m\u001b[0;34m:\u001b[0m\u001b[0;34m\u001b[0m\u001b[0;34m\u001b[0m\u001b[0m\n",
            "\u001b[0;31mValueError\u001b[0m: Expected 2D array, got 1D array instead:\narray=['Arabia' 'Atacama' 'Haboob' 'Arabia' 'MegaRandom' 'Golden Swamp'\n 'Gold Rush' 'Acropolis' 'Arabia' 'Arabia' 'Ghost Lake' 'Arabia' 'Arabia'\n 'Arabia' 'Arabia' 'Four Lakes' 'Arabia' 'Arabia' 'Arabia' 'Arabia'\n 'Arabia' 'Arabia' 'Arabia' 'Arabia' 'Socotra' 'Arabia' 'Arena' 'Arabia'\n 'Arabia' 'Arabia' 'Arena' 'Arabia' 'Arabia' 'Arabia' 'Arabia' 'Aftermath'\n 'Arabia' 'Arabia' 'Arabia' 'Arabia' 'Arabia' 'Arabia' 'Arabia'\n 'Four Lakes' 'Arabia' 'Arena' 'Arabia' 'Arabia' 'Arabia' 'Archipelago'\n 'Migration' 'Arabia' 'Arena' 'Arabia' 'Socotra' 'Wade' 'Arabia'\n 'Runestones' 'Hideout' 'Arena' 'Arabia' 'Arena' 'Arabia' 'Golden Swamp'\n 'Hideout' 'Arabia' 'Arabia' 'Arabia' 'Arabia' 'Arabia' 'Arabia' 'Arabia'\n 'Arabia' 'Arabia' 'Arabia' 'Four Lakes' 'Arabia' 'Arabia' 'Arabia'\n 'Arabia' 'Four Lakes' 'Arabia' 'Crater' 'Arabia' 'Arabia' 'Arabia'\n 'Acropolis' 'Arabia' 'Four Lakes' 'Arena' 'Four Lakes' 'Arabia' 'Arabia'\n 'Golden Pit' 'Runestones' 'Ghost Lake' 'Golden Pit' 'Arabia' 'Arena'\n 'Arabia' 'Arabia' 'Arabia' 'Runestones' 'Arabia' 'Arena' 'Arabia'\n 'Arabia' 'Arabia' 'Ghost Lake' 'Arabia' 'Arabia' 'Socotra' 'Arabia'\n 'Arabia' 'Acropolis' 'Arabia' 'Arabia' 'Acropolis' 'Arena' 'Arabia'\n 'Arena' 'Arabia' 'Arabia' 'Runestones' 'Arabia' 'Golden Pit' 'Arabia'\n 'Arabia' 'Runestones' 'Arena' 'Arabia' 'Arabia' 'Arabia' 'Arabia'\n 'Arabia' 'Arabia' 'Arabia' 'Arabia' 'Arabia' 'Arabia' 'Arena' 'Arabia'\n 'Serengeti' 'Arabia' 'Arabia' 'Arabia' 'Arabia' 'Arabia' 'Arabia'\n 'Arabia' 'Runestones' 'Arena' 'Arabia' 'Arabia' 'Arabia' 'Arena' 'Arabia'\n 'Arabia' 'Arabia' 'Arabia' 'Arabia' 'Arabia' 'Arabia' 'Arabia'\n 'Acropolis' 'Runestones' 'Arabia' 'Arabia' 'Arabia' 'Arabia' 'Arena'\n 'Arabia' 'Runestones' 'Land Madness' 'Arabia' 'Arabia' 'Atacama' 'Arabia'\n 'Hideout' 'Arabia' 'MegaRandom' 'Valley' 'Arabia' 'Arabia' 'Runestones'\n 'Atacama' 'Arabia' 'Arabia' 'Arabia' 'Runestones' 'Arabia' 'Arabia'\n 'Arena' 'Golden Pit' 'Migration' 'Arena' 'Arabia' 'Arabia' 'Arabia'\n 'Hideout' 'Fortress' 'Arabia' 'Arabia' 'Runestones' 'Hill Fort' 'Hideout'\n 'Mongolia' 'Arabia' 'Arabia' 'Arabia' 'Golden Pit' 'Arabia' 'Arabia'\n 'Arabia' 'Arabia' 'Arabia' 'Arena' 'Hideout' 'Golden Pit' 'Arabia'\n 'Islands' 'Arabia' 'Arabia' 'MegaRandom' 'Arabia' 'Arabia' 'Arena'\n 'Arabia' 'Arena' 'Arabia' 'Lombardia' 'Arabia' 'Arabia' 'Hideout'\n 'Arabia' 'Four Lakes' 'Arabia' 'MegaRandom' 'Arabia' 'Socotra' 'Arabia'\n 'Arabia' 'Arabia' 'Arabia' 'Arabia' 'Four Lakes' 'Gold Rush' 'Haboob'\n 'Arabia' 'Atacama' 'Runestones' 'Arabia' 'Arabia' 'Arabia' 'Arabia'\n 'Arabia' 'Arabia' 'Arabia' 'Arabia' 'Arena' 'Arabia' 'Arabia' 'Arabia'\n 'Arabia' 'Arabia' 'Arena' 'Arena' 'Arabia' 'Arabia' 'Arabia' 'Arabia'\n 'Golden Pit' 'Golden Pit' 'Valley' 'Arena' 'Atacama' 'Arabia'\n 'Four Lakes' 'Islands' 'Arabia' 'Arabia' 'Arabia' 'Arabia' 'Arabia'\n 'Arabia' 'Hideout' 'Golden Pit' 'Arabia' 'Gold Rush' 'Arena' 'Arabia'\n 'Ghost Lake' 'Valley' 'Atacama' 'Arabia' 'Arabia' 'Runestones' 'Arabia'\n 'Arabia' 'Land Madness' 'Arabia' 'Arabia' 'Arabia' 'Acropolis' 'Arabia'\n 'Arabia' 'Crater' 'Arabia' 'Arabia' 'Arabia' 'Arabia' 'Atacama' 'Arena'\n 'Arabia' 'Arena' 'Arabia' 'Arena' 'MegaRandom' 'Arena' 'Migration'\n 'Four Lakes' 'Arena' 'Yucatan' 'Arabia' 'Archipelago' 'Arabia' 'Arena'\n 'Arabia' 'Golden Pit' 'Arena' 'Arabia' 'Arena' 'Arena' 'Four Lakes'\n 'Acropolis' 'Arabia' 'Arabia' 'Arabia' 'Socotra' 'Arena' 'Arabia'\n 'Four Lakes' 'Arabia' 'Land Madness' 'Arena' 'Arabia' 'Acropolis'\n 'Arabia' 'Arabia' 'Arabia' 'Arabia' 'Arena' 'Arena' 'Golden Pit'\n 'Runestones' 'Arabia' 'Arena' 'Arabia' 'Arena' 'Arabia' 'Arabia' 'Arabia'\n 'Arabia' 'Arabia' 'Arabia' 'Arabia' 'Arabia' 'Four Lakes' 'Arabia'\n 'Arabia' 'Valley' 'Arabia' 'Runestones' 'Arabia' 'Arena' 'Arabia'\n 'Marketplace' 'Arena' 'Arabia' 'Arabia' 'Arabia' 'Arabia' 'Arabia'\n 'Arabia' 'Socotra' 'Arena' 'Arabia' 'Arena' 'Arena' 'Volcanic Island'\n 'Arabia' 'Arabia' 'Arabia' 'Arabia' 'Arabia' 'Valley' 'Arena' 'Arabia'\n 'Arabia' 'Arabia' 'Arabia' 'Arabia' 'Arena' 'Arabia' 'Arabia' 'Arabia'\n 'Arena' 'Arabia' 'Four Lakes' 'Arabia' 'Arabia' 'Atacama' 'Fortress'\n 'Socotra' 'Arabia' 'Arabia' 'Arabia' 'Arabia' 'Runestones' 'Arabia'\n 'Arabia' 'Arabia' 'Arabia' 'Arena' 'Arena' 'Arabia' 'Arabia' 'Arena'\n 'Ghost Lake' 'Arabia' 'Arena' 'Arabia' 'Arabia' 'Arabia' 'Arabia'\n 'Arabia' 'Arena' 'Mediterranean' 'Arabia' 'Arabia' 'Arabia' 'Gold Rush'\n 'Arabia' 'Arabia' 'MegaRandom' 'Arena' 'Team Islands' 'Arabia' 'Arabia'\n 'Arabia' 'Arena' 'Arabia' 'Lombardia' 'Arabia' 'Hill Fort' 'Valley'\n 'Arabia' 'Arena' 'Arabia' 'Arabia' 'Arabia' 'Arabia' 'Arabia' 'Arabia'\n 'Arena' 'Arabia' 'Runestones' 'Aftermath' 'Arabia' 'Four Lakes' 'Arabia'].\nReshape your data either using array.reshape(-1, 1) if your data has a single feature or array.reshape(1, -1) if it contains a single sample."
          ]
        }
      ],
      "source": [
        "# Exemplo de dados categóricos\n",
        "categorical_data = np.array(df['map'])\n",
        "# Instanciando o OneHotEncoder\n",
        "onehot_encoder = OneHotEncoder()\n",
        "\n",
        "# Convertendo os dados categóricos em numéricos (matriz densa)\n",
        "numeric_data = onehot_encoder.fit_transform(categorical_data)\n",
        "\n",
        "# Exibindo os resultados\n",
        "print('One-Hot Encoding:\\n', numeric_data)\n",
        "df.head()"
      ]
    },
    {
      "cell_type": "code",
      "source": [
        "df['map_fractorize'] = pd.factorize(df['map'])[0]\n",
        "print(df['map_fractorize'].head(10))\n",
        "print(df['map'].head(10))"
      ],
      "metadata": {
        "colab": {
          "base_uri": "https://localhost:8080/"
        },
        "id": "Qn3uwjtl6Bmo",
        "outputId": "7758b80a-faa3-46fd-a19a-72df78593cb9"
      },
      "execution_count": 56,
      "outputs": [
        {
          "output_type": "stream",
          "name": "stdout",
          "text": [
            "0    0\n",
            "1    1\n",
            "2    2\n",
            "3    3\n",
            "4    1\n",
            "5    4\n",
            "6    5\n",
            "7    6\n",
            "8    7\n",
            "9    1\n",
            "Name: map_fractorize, dtype: int64\n",
            "0           Nomad\n",
            "1          Arabia\n",
            "2         Atacama\n",
            "3          Haboob\n",
            "4          Arabia\n",
            "5      MegaRandom\n",
            "6    Golden Swamp\n",
            "7       Gold Rush\n",
            "8       Acropolis\n",
            "9          Arabia\n",
            "Name: map, dtype: object\n"
          ]
        }
      ]
    },
    {
      "cell_type": "code",
      "execution_count": null,
      "metadata": {
        "id": "HfbFWpJMhmla"
      },
      "outputs": [],
      "source": [
        "df.drop(['map', 'p1_civ', 'p2_civ'], axis=1, inplace=True)\n",
        "df.head()"
      ]
    },
    {
      "cell_type": "code",
      "execution_count": null,
      "metadata": {
        "id": "Ggc5Sv-q1oJR"
      },
      "outputs": [],
      "source": [
        "X = df.drop('winner', axis=1)\n",
        "y = df['winner']\n",
        "\n",
        "# Divisão dos dados em treino e teste\n",
        "X_train, X_test, y_train, y_test = train_test_split(X, y, test_size=0.2, random_state=42)\n",
        "\n",
        "# Padronização dos dados\n",
        "scaler = StandardScaler()\n",
        "X_train_scaled = scaler.fit_transform(X_train)\n",
        "X_test_scaled = scaler.transform(X_test)"
      ]
    },
    {
      "cell_type": "code",
      "execution_count": null,
      "metadata": {
        "id": "0dbU7UoE7H0H"
      },
      "outputs": [],
      "source": [
        "model = SVC(kernel='linear')\n",
        "model.fit(X_train_scaled, y_train)"
      ]
    },
    {
      "cell_type": "code",
      "execution_count": null,
      "metadata": {
        "id": "cEPjiwZ3Npax"
      },
      "outputs": [],
      "source": [
        "y_pred = model.predict(X_test_scaled)\n",
        "conf_matrix = confusion_matrix(y_test, y_pred)\n",
        "plt.figure(figsize=(8, 6))\n",
        "sns.heatmap(conf_matrix, annot=True, fmt='d', cmap='Blues', cbar=False)\n",
        "plt.title('Matriz de Confusão - SVM Linear')\n",
        "plt.xlabel('Predito')\n",
        "plt.ylabel('Real')\n",
        "plt.show()\n",
        "print(classification_report(y_test, y_pred))"
      ]
    },
    {
      "cell_type": "code",
      "execution_count": null,
      "metadata": {
        "id": "ezZuTZgGNqlO"
      },
      "outputs": [],
      "source": [
        "svm = SVC(probability=True)\n",
        "param_grid = {\n",
        "    'C': [0.1, 1, 10, 100],\n",
        "    'gamma': [1, 0.1, 0.01, 0.001],\n",
        "    'kernel': ['rbf', 'linear']\n",
        "}\n",
        "\n",
        "# Instanciar o modelo SVM\n",
        "grid_search = GridSearchCV(svm, param_grid, cv=5, scoring='accuracy', n_jobs=-1)\n",
        "grid_search.fit(X_train_scaled, y_train)"
      ]
    },
    {
      "cell_type": "code",
      "execution_count": null,
      "metadata": {
        "id": "yHxS3xHfsEVL"
      },
      "outputs": [],
      "source": [
        "# Exibir os melhores parâmetros\n",
        "print('Melhores parâmetros: ', grid_search.best_params_)\n",
        "print('Melhor estimador: ', grid_search.best_estimator_)"
      ]
    },
    {
      "cell_type": "code",
      "execution_count": null,
      "metadata": {
        "id": "G-zNUiT0mmHG"
      },
      "outputs": [],
      "source": [
        "best_svm = grid_search.best_estimator_\n",
        "y_pred = best_svm.predict(X_test_scaled)\n",
        "accuracy = accuracy_score(y_test, y_pred)\n",
        "print(f'Accuracy: {accuracy:.2f}')\n",
        "print('Classification Report:')\n",
        "print(classification_report(y_test, y_pred))"
      ]
    },
    {
      "cell_type": "code",
      "execution_count": null,
      "metadata": {
        "id": "mxf48K0wm7Xl"
      },
      "outputs": [],
      "source": [
        "cm = confusion_matrix(y_test, y_pred)\n",
        "disp = ConfusionMatrixDisplay(confusion_matrix=cm)\n",
        "plt.figure()\n",
        "disp.plot(cmap=plt.cm.Blues)\n",
        "plt.title('Matriz de Confusão')\n",
        "plt.show()\n",
        "print(classification_report(y_test, y_pred))"
      ]
    },
    {
      "cell_type": "code",
      "execution_count": null,
      "metadata": {
        "id": "63iDbkGJnAU1"
      },
      "outputs": [],
      "source": [
        "result = permutation_importance(best_svm, X_test_scaled, y_test, n_repeats=10, random_state=42)\n",
        "sorted_idx = result.importances_mean.argsort()\n",
        "plt.figure(figsize=(10, 6))\n",
        "plt.barh(range(len(sorted_idx)), result.importances_mean[sorted_idx], align='center')\n",
        "plt.yticks(range(len(sorted_idx)), [X.columns[i] for i in sorted_idx])\n",
        "plt.xlabel('Feature Importance (Mean Decrease in Accuracy)')\n",
        "plt.title('Importância das Features via Permutation no Conjunto de Teste')\n",
        "plt.grid(True)\n",
        "plt.show()"
      ]
    },
    {
      "cell_type": "code",
      "execution_count": null,
      "metadata": {
        "id": "LJ20tz_2r3Ib"
      },
      "outputs": [],
      "source": [
        "fp_indices = np.where((y_pred == 1) & (y_test != 1))[0]\n",
        "fn_indices = np.where((y_pred != 1) & (y_test == 1))[0]\n",
        "fp_samples = X_test.iloc[fp_indices]\n",
        "fn_samples = X_test.iloc[fn_indices]\n",
        "correctly_classified_samples = X_test[(y_pred == y_test)]\n",
        "fp_mean = fp_samples.mean()\n",
        "fn_mean = fn_samples.mean()\n",
        "correctly_classified_mean = correctly_classified_samples.mean()\n",
        "comparison_df = pd.DataFrame({\n",
        "    'False Positives': fp_mean,\n",
        "    'False Negatives': fn_mean,\n",
        "    'Correctly Classified': correctly_classified_mean\n",
        "})\n",
        "print('Comparação das Features (Médias):')\n",
        "print(comparison_df)"
      ]
    }
  ],
  "metadata": {
    "colab": {
      "provenance": [],
      "include_colab_link": true
    },
    "kernelspec": {
      "display_name": "Python 3",
      "name": "python3"
    },
    "language_info": {
      "name": "python"
    }
  },
  "nbformat": 4,
  "nbformat_minor": 0
}